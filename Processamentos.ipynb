{
 "cells": [
  {
   "cell_type": "markdown",
   "metadata": {},
   "source": [
    "## Processamentos\n",
    "\n",
    "### Pedro Henrique Arruda Faustini"
   ]
  },
  {
   "cell_type": "markdown",
   "metadata": {},
   "source": [
    "Este trabalho procura reconhecer rostos de pessoas. Para tanto, existe um conjunto de faces, e por meio de aprendizado supervisionado, treina-se um modelo que se familiarize com elas. Então, fornce-se ao modelo faces ainda não vistas por ele para que ele diga quem é quem."
   ]
  },
  {
   "cell_type": "markdown",
   "metadata": {},
   "source": [
    "O código encontra-se nos arquivos .py dentro da pasta **face\\_detector/**. \n",
    "\n",
    "**face\\_detector/preprocessor.py** realiza operações de mais baixo nível, como ler imagens e identificar faces.\n",
    "\n",
    "**face\\_detector/person.py** contém a classe com os atributos que representam uma pessoa.\n",
    "\n",
    "**face\\_detector/utils.py** é uma classe com métodos diversos, como exibir uma imagem. Para acelerar o processamento, também contém os caminhos de todas as imagens em formato *hard coded*.\n",
    "\n",
    "**face\\_detector/model.py** é responsável por identificar quem é quem nas imagens.\n",
    "\n",
    "Dentro da pasta *faces* há 24 pastas identificadas de A a X, uma para cada uma das 24 pessoas que compõem a base de dados. Dentro de cada uma dessas 24 pastas há imagens dessas pessoas.\n"
   ]
  },
  {
   "cell_type": "markdown",
   "metadata": {},
   "source": [
    "#### Bibliotecas e versões\n",
    "\n",
    "* opencv-python==3.4.3.18\n",
    "\n",
    "* numpy==1.13.3\n",
    "\n",
    "* matplotlib==1.5.3\n",
    "\n",
    "* scikit-learn==0.19.1\n",
    "\n"
   ]
  },
  {
   "cell_type": "code",
   "execution_count": 1,
   "metadata": {
    "collapsed": true
   },
   "outputs": [],
   "source": [
    "from face_detector.preprocessor import Preprocessor\n",
    "from face_detector.model import Model\n",
    "from face_detector.utils import Utils"
   ]
  },
  {
   "cell_type": "code",
   "execution_count": 2,
   "metadata": {
    "collapsed": true
   },
   "outputs": [],
   "source": [
    "p = Preprocessor()\n",
    "u = Utils()\n",
    "m = Model()"
   ]
  },
  {
   "cell_type": "code",
   "execution_count": 3,
   "metadata": {},
   "outputs": [
    {
     "name": "stdout",
     "output_type": "stream",
     "text": [
      "             precision    recall  f1-score   support\n",
      "\n",
      "          A       0.80      0.80      0.80         5\n",
      "          B       1.00      1.00      1.00         8\n",
      "          C       1.00      0.50      0.67         2\n",
      "          D       1.00      1.00      1.00        12\n",
      "          E       1.00      1.00      1.00         5\n",
      "          F       0.89      1.00      0.94         8\n",
      "          G       1.00      1.00      1.00         6\n",
      "          H       0.88      1.00      0.93         7\n",
      "          I       1.00      1.00      1.00         2\n",
      "          J       0.83      0.83      0.83         6\n",
      "          K       0.80      1.00      0.89         4\n",
      "          L       1.00      1.00      1.00        10\n",
      "          M       0.00      0.00      0.00         2\n",
      "          N       1.00      1.00      1.00         8\n",
      "          O       0.00      0.00      0.00         2\n",
      "          P       1.00      0.83      0.91         6\n",
      "          Q       0.50      1.00      0.67         1\n",
      "          R       0.86      1.00      0.92         6\n",
      "          S       1.00      0.67      0.80         6\n",
      "          T       0.57      1.00      0.73         4\n",
      "          U       1.00      1.00      1.00         8\n",
      "          V       1.00      1.00      1.00         6\n",
      "          W       1.00      1.00      1.00         7\n",
      "\n",
      "avg / total       0.91      0.92      0.91       131\n",
      "\n"
     ]
    },
    {
     "name": "stderr",
     "output_type": "stream",
     "text": [
      "/home/pedro/anaconda3/lib/python3.6/site-packages/sklearn/metrics/classification.py:1428: UserWarning: labels size, 23, does not match size of target_names, 24\n",
      "  .format(len(labels), len(target_names))\n",
      "/home/pedro/anaconda3/lib/python3.6/site-packages/sklearn/metrics/classification.py:1135: UndefinedMetricWarning: Precision and F-score are ill-defined and being set to 0.0 in labels with no predicted samples.\n",
      "  'precision', 'predicted', average, warn_for)\n"
     ]
    }
   ],
   "source": [
    "data = []\n",
    "imgs = p.load_images() \n",
    "for img in imgs:\n",
    "    person = p.get_face(img=img[0], label=img[1])\n",
    "    if person is not None:\n",
    "        data.append((person.face_resized, person.label))\n",
    "m.classify(data=data)"
   ]
  },
  {
   "cell_type": "code",
   "execution_count": null,
   "metadata": {
    "collapsed": true
   },
   "outputs": [],
   "source": []
  }
 ],
 "metadata": {
  "kernelspec": {
   "display_name": "Python 3",
   "language": "python",
   "name": "python3"
  },
  "language_info": {
   "codemirror_mode": {
    "name": "ipython",
    "version": 3
   },
   "file_extension": ".py",
   "mimetype": "text/x-python",
   "name": "python",
   "nbconvert_exporter": "python",
   "pygments_lexer": "ipython3",
   "version": "3.6.2"
  }
 },
 "nbformat": 4,
 "nbformat_minor": 2
}
