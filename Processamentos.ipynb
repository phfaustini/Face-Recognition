{
 "cells": [
  {
   "cell_type": "markdown",
   "metadata": {},
   "source": [
    "## Processamentos\n",
    "\n",
    "### Pedro Henrique Arruda Faustini"
   ]
  },
  {
   "cell_type": "markdown",
   "metadata": {},
   "source": [
    "Este trabalho procura reconhecer rostos de pessoas. Para tanto, existe um conjunto de faces, e por meio de aprendizado supervisionado, treina-se um modelo que se familiarize com elas. Então, fornce-se ao modelo faces ainda não vistas por ele para que ele diga quem é quem."
   ]
  },
  {
   "cell_type": "markdown",
   "metadata": {},
   "source": [
    "O código encontra-se nos arquivos .py dentro da pasta **face\\_detector/**. \n",
    "\n",
    "**Preprocessor.py** realiza operações de mais baixo nível, como ler imagens e identificar faces.\n",
    "\n",
    "**Person.py** contém a classe com os atributos que representam uma pessoa.\n",
    "\n",
    "**Utils.py** é uma classe com métodos diversos, como exibir uma imagem. Para acelerar o processamento, também contém os caminhos de todas as imagens em formato *hard coded*.\n",
    "\n",
    "**Model.py** é responsável por identificar quem é quem nas imagens.\n",
    "\n",
    "Dentro da pasta *faces* há 24 pastas identificadas de A a X, uma para cada uma das 24 pessoas que compõem a base de dados. Dentro de cada uma dessas 24 pastas há imagens dessas pessoas.\n"
   ]
  },
  {
   "cell_type": "code",
   "execution_count": 2,
   "metadata": {
    "collapsed": true
   },
   "outputs": [],
   "source": [
    "from face_detector.preprocessor import Preprocessor\n",
    "from face_detector.transformer import Transformer\n",
    "from face_detector.model import Model\n",
    "from face_detector.utils import Utils"
   ]
  },
  {
   "cell_type": "code",
   "execution_count": 3,
   "metadata": {
    "collapsed": true
   },
   "outputs": [],
   "source": [
    "p = Preprocessor()\n",
    "t = Transformer()\n",
    "u = Utils()\n",
    "m = Model()"
   ]
  },
  {
   "cell_type": "code",
   "execution_count": null,
   "metadata": {},
   "outputs": [],
   "source": [
    "imgs = p.load_images()\n",
    "m.classify(data=imgs)"
   ]
  }
 ],
 "metadata": {
  "kernelspec": {
   "display_name": "Python 3",
   "language": "python",
   "name": "python3"
  },
  "language_info": {
   "codemirror_mode": {
    "name": "ipython",
    "version": 3
   },
   "file_extension": ".py",
   "mimetype": "text/x-python",
   "name": "python",
   "nbconvert_exporter": "python",
   "pygments_lexer": "ipython3",
   "version": "3.6.3"
  }
 },
 "nbformat": 4,
 "nbformat_minor": 2
}
